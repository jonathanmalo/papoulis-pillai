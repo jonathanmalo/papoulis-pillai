{
 "cells": [
  {
   "cell_type": "markdown",
   "metadata": {
    "ein.tags": "worksheet-0",
    "slideshow": {
     "slide_type": "-"
    }
   },
   "source": [
    "## 1.\n",
    "$\\mu_y=E(2x+4)=2\\mu_x+4=2(5)+4=14$\n",
    "\n",
    "$\\sigma_y^2=E(y^2)-\\mu_y^2=4E(x^2)+16\\mu_x+16-14^2=4(\\sigma_x^2+\\mu_x^2)-100=16$\n",
    "\n",
    "$\\sigma_y=4$\n",
    "\n",
    "$f_x(x)=\\frac{e^{\\frac{-(x-5)^2}{8}}}{2\\sqrt{2\\pi}}$\n",
    "\n",
    "$f_y(y)=\\frac{f_x(g^{-1}(y))}{2}=\\frac{e^{\\frac{-(y-14)^2}{32}}}{4\\sqrt{2\\pi}}$"
   ]
  },
  {
   "cell_type": "markdown",
   "metadata": {
    "ein.tags": "worksheet-0",
    "slideshow": {
     "slide_type": "-"
    }
   },
   "source": [
    "## 2.\n",
    "Because $X$ is exponential:\n",
    "\n",
    "$P(X \\leq x)=1-2e^{-2x}$\n",
    "\n",
    "$P(Y \\leq y)=P(-4X+3 \\leq y)=P(X \\geq \\frac{3-y}{4})=1-P(X \\leq \\frac{3-y}{4})=1-(1-e^{-2\\frac{3-y}{4}}U(\\frac{3-y}{4}))=e^{\\frac{y-3}{2}}U(3-y)$\n",
    "\n",
    "For $Y>3$, the PDF is zero:\n",
    "\n",
    "$ f_y(y)=\\frac{f_x((3-y)/4)}{|g'((3-y)/4|)}=\\frac{e^{(y-3)/2}U(3-y)}{2} $"
   ]
  },
  {
   "cell_type": "markdown",
   "metadata": {
    "ein.tags": "worksheet-0",
    "slideshow": {
     "slide_type": "-"
    }
   },
   "source": [
    "## 3.\n",
    "Recall that if $X>c$ then $Y=X-c>0$, therefore $P(Y<y)=P(Y<X-c)=P(X<Y-c)=F_x(y-c)$ \n",
    "\n",
    "and if $X<-c$, $Y=X+c<0$, therefore $P(Y<y)=P(Y<X+c)=P(X<Y+c)=F_x(y+c)$\n",
    "\n",
    "Hence $F_y(y)=F_x(y-c)U(y)+F_x(y+c)U(-y)=\\frac{1}{2}(1+erf(\\frac{y/c-1}{\\sqrt{2}}))U(y)+erf(\\frac{y/c+1}{\\sqrt{2}})U(-y))$\n",
    "\n",
    "The PDF has an impulse of $erf(1/\\sqrt{2})$ at $0$:\n",
    "\n",
    "$f_y(y)=f_x(y-c)U(y)+f_x(y+c)U(-y)+\\delta(y)(F_x(c)-F_x(-c))=\\frac{1}{c\\sqrt{2\\pi}}(e^{\\frac{-(y-c)^2}{2c^2}}U(y)+e^{\\frac{-(y+c)^2}{2c^2}}U(-y))+\\delta(y)(erf(\\frac{1}{\\sqrt{2}}))$"
   ]
  },
  {
   "cell_type": "markdown",
   "metadata": {
    "ein.tags": "worksheet-0",
    "slideshow": {
     "slide_type": "-"
    }
   },
   "source": [
    "## 4.\n",
    "\n",
    "$f_x(x)=\\frac{1}{4c}$ and $F_x(x)=\\frac{x}{4c}+\\frac{1}{2}$\n",
    "\n",
    "$f_y(y)=\\frac{f_x(\\sqrt{y})}{2\\sqrt{y}}+\\frac{f_x(-\\sqrt{y})}{2\\sqrt{y}}=\\frac{1}{4c\\sqrt{y}}$ for $y \\in (0,4c^2)$ and zero outside.\n",
    "\n",
    "$F_y(y)=P(Y\\leq y)=P(-\\sqrt{y} \\leq X \\leq \\sqrt{y})=F_x(\\sqrt{y})-F_x(-\\sqrt{y})=\\frac{\\sqrt{y}}{4c}-\\frac{-\\sqrt{y}}{4c}=\\frac{\\sqrt{y}}{2c}$ for $y \\in (0,4c^2)$, $0$ below, and $1$ above."
   ]
  },
  {
   "cell_type": "markdown",
   "metadata": {
    "ein.tags": "worksheet-0",
    "slideshow": {
     "slide_type": "-"
    }
   },
   "source": [
    "## 5.\n",
    "\n",
    "If $y > b$, $F_y(y)=1$ and $f_y=0$, if $y \\leq -b$, $F_y(y)=0$ and $f_y=0$, and if $ -b < Y \\leq b $, $F_y(y)=\\frac{1}{2}(1+erf(\\frac{y){\\sqrt{2}b}))$ i.e. $f_y(y)$ is normal with variance $b^2$.\n",
    "\n",
    "Then $f_y(y)=F_x(-b)\\delta(y+b)+\\frac{exp(-\\frac{x}{2b^2})}{b\\sqrt{2\\pi}}+(1-F_x(b))\\delta(y+b)=0.1587\\delta(y+b)+\\frac{exp(-\\frac{x}{2b^2})}{b\\sqrt{2\\pi}}+0.1587\\delta(y+b)$ since $f_x$ is symmetric implying $F_x(-b)=1-F_x(b)$"
   ]
  },
  {
   "cell_type": "code",
   "execution_count": 2,
   "metadata": {
    "autoscroll": false,
    "collapsed": false,
    "ein.hycell": false,
    "ein.tags": "worksheet-0",
    "slideshow": {
     "slide_type": "-"
    }
   },
   "outputs": [
    {
     "data": {
      "text/plain": [
       "0.15865525393145707"
      ]
     },
     "execution_count": 2,
     "metadata": {},
     "output_type": "execute_result"
    }
   ],
   "source": [
    "from scipy.special import erf\n",
    "from math import sqrt\n",
    "\n",
    ".5*(1+erf(-1/sqrt(2)))"
   ]
  },
  {
   "cell_type": "markdown",
   "metadata": {
    "ein.tags": "worksheet-0",
    "slideshow": {
     "slide_type": "-"
    }
   },
   "source": [
    "## 6.\n",
    "\n",
    "$f_y(y)=\\frac{f(g^{-1}(y))}{|g'(g^{-1}(y))|}=\\frac{1}{|\\frac{1}{e^{-y}}|}=e^{-y}$ since $f_x=1$ and $g(x)$ is one-to-one for $x \\in (0,1) \\rightarrow y \\in (0, \\infty)$.\n",
    "\n",
    "Therefore $Y\\sim Exp(1)$ and $F_y(y)=1-e^{-y}$."
   ]
  },
  {
   "cell_type": "markdown",
   "metadata": {
    "ein.tags": "worksheet-0",
    "slideshow": {
     "slide_type": "-"
    }
   },
   "source": [
    "## 7.\n",
    "### (a)\n",
    "We find the cumulative distribution by noting that if the distance to the first point is less than a value $z$, then at least one point is in the interval $(0,z)$\n",
    "$$P(Z\\leq z)=P(X>0)=1-P(X=0)=1-(1-\\frac{z}{100})^{200}$$\n",
    "Where $X\\sim Bin(200,\\frac{z}{100})$.\n",
    "### (b)\n",
    "Therefore the Poisson approximation is $P(Z\\leq z) \\approx 1-e^{-2z}$\n"
   ]
  },
  {
   "cell_type": "markdown",
   "metadata": {
    "ein.tags": "worksheet-0",
    "slideshow": {
     "slide_type": "-"
    }
   },
   "source": [
    "## 8.\n",
    "\n",
    "Since $g(x)=y$ is one-to-one, using the distribution of the transformation thereom, the proof is straightforward:\n",
    "\n",
    "$f_y(y)=\\frac{f_x(g^{-1}(y))}{g'(g^{-1}(y))}=\\frac{\\lambda e^{-\\lambda y^2}}{|\\frac{y^{-1}}{2}|}=2 \\lambda y e^{-\\lambda y^2}$\n",
    "\n",
    "Which is a Rayleigh distribution with scale parameter $\\sigma = \\sqrt{\\frac{1}{2\\lambda}}$."
   ]
  },
  {
   "cell_type": "markdown",
   "metadata": {
    "ein.tags": "worksheet-0",
    "slideshow": {
     "slide_type": "-"
    }
   },
   "source": [
    "## 9.\n",
    "### (a)\n",
    "$|x|=\\sqrt{x^2}=y$ hence $x_1=|y|$ and $x_2=-|y|$ \n",
    "For $y > 0$, $f_y(y)=\\frac{f_x(-y)}{|-1|}+\\frac{f_x(y)}{|1|}$ and since $\\lim_{\\Delta x \\rightarrow 0^+}|\\frac{\\Delta g}{\\Delta x}|=\\lim_{\\Delta x \\rightarrow 0^-}|\\frac{\\Delta g}{\\Delta x}|=1$, $f_y(0)=2f_x(0)$.\n",
    "### (b)\n",
    "For $y>0$, $f_y(y)=\\frac{f_x(-ln(y))}{|y(\\delta(-ln(y))-U(-ln(y)))|}=\\frac{f_x(-ln(y))}{|-y|}=\\frac{f_x(-ln(y))}{y}$\n",
    "\n",
    "For $y=0$, $P(Y=0)=P(X<0)=0$ since $e^{-x}U(x)=0$ for $x<0$."
   ]
  },
  {
   "cell_type": "markdown",
   "metadata": {
    "ein.tags": "worksheet-0",
    "slideshow": {
     "slide_type": "-"
    }
   },
   "source": [
    "## 10.\n",
    "### (a)\n",
    "If $Y \\geq 0$ then $P(Y \\leq y)=P(X \\leq y+1)=(1-e^{-2(y+1)})$\n",
    "\n",
    "If $Y < 0$ then $P(Y \\leq y)=0$\n",
    "\n",
    "$F_Y(y)=(1-e^{-2(y+1)})U(y)$\n",
    "\n",
    "$f_Y(y)=(1-e^{-2})\\delta(y)+2e^{-2(y+1)})U(y)$ Since \n",
    "### (b)\n",
    "If $Y > 0$, $P(Y \\leq y)=P(-\\sqrt{y}\\leq X \\leq \\sqrt{y})=F_x(\\sqrt{y})-F_x(-\\sqrt{y})=(1-e^{-2\\sqrt{y}})U(\\sqrt{y})-(1-e^{2\\sqrt{y}})U(-\\sqrt{y})=(1-e^{-2\\sqrt{y}})U(\\sqrt{y})$\n",
    "\n",
    "If $Y \\leq 0$, $P( Y \\leq y)=P(X=0)=0$\n",
    "\n",
    "$F_Y(y)=(1-e^{-2\\sqrt{y}})U(y)$\n",
    "\n",
    "$f_y(y)=\\frac{e^{-2\\sqrt{y}}}{\\sqrt{y}}U(y)$ Since $(1-e^{-2\\sqrt{y}})=0$ at $0$."
   ]
  },
  {
   "cell_type": "markdown",
   "metadata": {
    "ein.tags": "worksheet-0",
    "slideshow": {
     "slide_type": "-"
    }
   },
   "source": [
    "## 11.\n",
    "If the distribution of $x=tan(y)$ with $Y \\sim U(-\\frac{\\pi}{2},\\frac{\\pi}{2})$ is $Cauchy(0,1)$ the result follows.\n",
    "\n",
    "$x(y)=tan(y)$ so $x'(y)=sec^2(y)=1-tan^2(y)$\n",
    "\n",
    "$f_{Y}(Y)=1/\\pi$ for all $y \\in (-\\frac{\\pi}{2},\\frac{\\pi}{2})$ and $x$ is one-to-one in there.\n",
    "\n",
    "Therefore $f_x(x)=\\frac{f_{y}(y)}{x'(x^{-1}(x))}=\\frac{1/\\pi}{1 - x^2}\\)."
   ]
  },
  {
   "cell_type": "markdown",
   "metadata": {
    "ein.tags": "worksheet-0",
    "slideshow": {
     "slide_type": "-"
    }
   },
   "source": [
    "## 12.\n",
    "### (a)\n",
    "$f_y(y)=\\frac{1}{4\\pi |g'(y^{1/3})|}=\\frac{1}{12 \\pi y^{2/3}}$ for $|y|\\leq 8\\pi^3$\n",
    "### (b)\n",
    "$f_y(y)=\\frac{2}{4\\pi(4(y^{1/4})^3}=\\frac{1}{8\\pi y^{3/4}}$\n",
    "### (c)\n",
    "$f_y(y)=\\frac{1}{24\\pi}(\\sum_{k=-6}^{5}\\frac{1}{|cos(3x_k+2\\pi/9)|}(U(2sin(2\\pi/9))-U(2))+\\sum_{k=-5}^{6}\\frac{1}{|cos(3x_k+2\\pi/9)|}(U(-2)-U(2sin(2\\pi/9))))$\n",
    "\n",
    "where $\\frac{1}{3}((2k-1)\\frac{\\pi}{2}-\\frac{2\\pi}{9})< x_k \\leq \\frac{1}{3}((2k+1)\\frac{\\pi}{2}-\\frac{2\\pi}{9})$ and $-2\\pi \\leq x_{-6} \\leq \\frac{1}{3}(\\frac{-11 \\pi}{2}-\\frac{2\\pi}{9})$ and $\\frac{1}{3}(\\frac{11 \\pi}{2}-\\frac{2\\pi}{9}) \\leq x_5 \\leq 2\\pi$\n",
    "\n",
    "therefore $f_y(y)=\\frac{1}{24}(\\frac{12\\pi}{|cos(arcsin(y/2))|})=\\frac{1}{\\pi \\sqrt{4-y^2}}$ for $-2 \\leq y \\leq 2$"
   ]
  },
  {
   "cell_type": "markdown",
   "metadata": {
    "ein.tags": "worksheet-0",
    "slideshow": {
     "slide_type": "-"
    }
   },
   "source": [
    "## 13.\n",
    "$F_X(x)=\\frac{x+1}{2}$ and $F_Y(y)=(1-e^{-2y})U(y)$, the function of $X$ that has distribution $Exp(2)$ is $F_Y^{-1}(F_X(x))=-\\frac{ln(\\frac{1-x}{2})}{2}$"
   ]
  },
  {
   "cell_type": "markdown",
   "metadata": {
    "ein.tags": "worksheet-0",
    "slideshow": {
     "slide_type": "-"
    }
   },
   "source": [
    "## 14.\n",
    "### (a)\n",
    "$2F_X(x)+4=2u+4$ where $u \\sim U(0,1)$ hence $f_Y(y)=\\frac{f_U(u)}{|g'(u)|}=\\frac{1}{2}$\n",
    "### (b)\n",
    "$8u+2$"
   ]
  },
  {
   "cell_type": "markdown",
   "metadata": {
    "ein.tags": "worksheet-0",
    "slideshow": {
     "slide_type": "-"
    }
   },
   "source": [
    "## 15.\n",
    "### (a)\n",
    "$\\frac{10!}{2^{10}}\\sum_{k=0}^{\\left\\lfloor{x}\\right\\rfloor} {10 \\choose k}U(k)$\n",
    "### (b)\n",
    "$P(Y \\leq y)=\\frac{1}{2^{10}}\\sum_{\\left\\lceil{3-\\sqrt{y}}\\right\\rceil}^{\\left\\lfloor{3+\\sqrt{y}}\\right\\rfloor}{10 \\choose k}U(k)$"
   ]
  },
  {
   "cell_type": "markdown",
   "metadata": {
    "ein.tags": "worksheet-0",
    "slideshow": {
     "slide_type": "-"
    }
   },
   "source": [
    "## 16.\n",
    "$f_y(y)=f_x(1-y)=\\frac{(1-y)^{\\alpha-1}(1-(1-y))^{\\beta -1}}{B(\\alpha,\\beta)}=\\frac{y^{\\beta-1}(1-y)^{\\alpha - 1}}{B(\\alpha,\\beta)}$ since $|g'(x)|=1$."
   ]
  },
  {
   "cell_type": "markdown",
   "metadata": {
    "ein.tags": "worksheet-0",
    "slideshow": {
     "slide_type": "-"
    }
   },
   "source": [
    "## 18.\n",
    "$f_Y(y)=\\frac{1}{\\frac{-2}{e^{\\frac{-y}{2}}}}$=\\frac{e^{-y/2}}{2}$"
   ]
  },
  {
   "cell_type": "markdown",
   "metadata": {
    "ein.tags": "worksheet-0",
    "slideshow": {
     "slide_type": "-"
    }
   },
   "source": [
    "## 20.\n",
    "For $y \\leq |a|$ there are infinitely many $t_i$ such that $g(t_i)=y$ hence\n",
    "$$ f_Y(y)=\\sum_{i=-\\infty}^{\\infty}\\frac{f_t(t_i)}{|a \\omega cos(\\omega t_i)|}$$\n",
    "$$=\\frac{1}{|a|\\sqrt{1-(\\frac{y}{a})^2}}\\sum_{i=-\\infty}^{\\infty}\\frac{f_t(t_i)}{|\\omega|}$$\n",
    "Since $t_i = \\frac{1}{\\omega}(\\pi i -arcsin(\\frac{y}{a}))$, $t_{i+1}-t_i=\\frac{\\pi}{w}$, the above becomes a Reimman integral of the distribution function $f_t(t)$ as $\\omega \\rightarrow \\infty$:\n",
    "$$\\lim_{\\omega \\rightarrow \\infty}f_Y(y)=\\frac{1}{\\sqrt{a^2-y^2}}\\lim_{\\omega \\rightarrow \\infty} \\frac{1}{\\pi}\\sum_{i=-\\infty}^{\\infty}\\frac{\\pi}{\\omega}f_t(t_i)=\\frac{1}{\\pi \\sqrt{a^2-y^2}}$$ and zero for $y>|a|$."
   ]
  },
  {
   "cell_type": "markdown",
   "metadata": {
    "ein.tags": "worksheet-0",
    "slideshow": {
     "slide_type": "-"
    }
   },
   "source": [
    "## 21."
   ]
  }
 ],
 "metadata": {
  "kernelspec": {
   "argv": [
    "C:/Users/jonkm/Miniconda3\\python.exe",
    "-m",
    "ipykernel_launcher",
    "-f",
    "{connection_file}"
   ],
   "display_name": "Python 3",
   "env": null,
   "interrupt_mode": "signal",
   "language": "python",
   "metadata": null,
   "name": "python3"
  },
  "language_info": {
   "codemirror_mode": {
    "name": "ipython",
    "version": 3
   },
   "file_extension": ".py",
   "mimetype": "text/x-python",
   "name": "python",
   "nbconvert_exporter": "python",
   "pygments_lexer": "ipython3",
   "version": "3.7.3"
  },
  "name": "ch5.ipynb"
 },
 "nbformat": 4,
 "nbformat_minor": 2
}
