{
 "cells": [
  {
   "cell_type": "markdown",
   "metadata": {
    "ein.tags": "worksheet-0",
    "slideshow": {
     "slide_type": "-"
    }
   },
   "source": [
    "# Probability, Random Variables, and Stochastic Processes: Chapter 4 Answer Key\n",
    "\n",
    "## 1.\n",
    "We want to prove that if a PDF $f$ is even, the identity\n",
    "$-x_u=x_{1-u}$ holds for its percentile function $x_u$.\n",
    "Because $f$ is even, the area from $-\\infty$ to $-x_u$ is equal\n",
    "to the area from $x_u$ to $\\infty$: \n",
    "$$F(-x_u)=1-F(x_u)$ $\n",
    "Applying the inverse CDF (percentile function) to both sides gives the\n",
    "result."
   ]
  },
  {
   "cell_type": "markdown",
   "metadata": {
    "ein.tags": "worksheet-0",
    "slideshow": {
     "slide_type": "-"
    }
   },
   "source": [
    "## 2.\n",
    "Reasoning backwards from the desired result:\n",
    "$P(\\eta-a<X<\\eta+a)=1-\\alpha=F(x_{1-\\alpha/2})-F(x_{\\alpha/2})=P(x_{\\alpha/2}<X<x_{1-\\alpha/2})=P(\\eta-(\\eta-x_{\\alpha/2})<X<\\eta+(x_{1-\\alpha/2}-\\eta))$\n",
    "Using the result from problem 1,$-(\\eta-x_{\\alpha/2})=\\eta-x_{1-\\alpha/2}$ and the above\n",
    "confirms that $a$ must also be equal to these expressions."
   ]
  },
  {
   "cell_type": "markdown",
   "metadata": {
    "ein.tags": "worksheet-0",
    "slideshow": {
     "slide_type": "-"
    }
   },
   "source": [
    "## 3.\n",
    "### (a)"
   ]
  },
  {
   "cell_type": "code",
   "execution_count": null,
   "metadata": {
    "autoscroll": false,
    "collapsed": false,
    "ein.hycell": false,
    "ein.tags": "worksheet-0",
    "slideshow": {
     "slide_type": "-"
    }
   },
   "outputs": [],
   "source": [
    "import numpy as np\n",
    "import scipy.stats as sps\n",
    "\n",
    "sps.norm.ppf(np.arange(.9,.99,.025))"
   ]
  },
  {
   "cell_type": "code",
   "execution_count": null,
   "metadata": {
    "autoscroll": false,
    "collapsed": false,
    "ein.hycell": false,
    "ein.tags": "worksheet-0",
    "slideshow": {
     "slide_type": "-"
    }
   },
   "outputs": [],
   "source": [
    "sps.norm.ppf(.99)"
   ]
  },
  {
   "cell_type": "markdown",
   "metadata": {
    "ein.tags": "worksheet-0",
    "slideshow": {
     "slide_type": "-"
    }
   },
   "source": [
    "### (b)\n",
    "Defining $Z=(X-\\eta)/\\sigma$ reverses the scaling and translation\n",
    "($X=\\eta+\\sigma Z$) that converts the domain of the standard normal\n",
    "distribution to that of an arbitrary normal distribution with mean\n",
    "$\\eta$ and variance $\\sigma^2$. "
   ]
  },
  {
   "cell_type": "markdown",
   "metadata": {
    "ein.tags": "worksheet-0",
    "slideshow": {
     "slide_type": "-"
    }
   },
   "source": [
    "## 4.\n",
    "### (a)\n",
    "Converting to $N(0,1)$ and using its symmetry:\n",
    "$$P(\\eta-k\\sigma<X<\\eta+k\\sigma)=2(G(((\\eta+k\\sigma)-\\eta)/\\sigma)-1/2)=2G(k)-1$$"
   ]
  },
  {
   "cell_type": "code",
   "execution_count": null,
   "metadata": {
    "autoscroll": false,
    "collapsed": false,
    "ein.hycell": false,
    "ein.tags": "worksheet-0",
    "slideshow": {
     "slide_type": "-"
    }
   },
   "outputs": [],
   "source": [
    "2*sps.norm.cdf([1,2,3])-1"
   ]
  },
  {
   "cell_type": "markdown",
   "metadata": {
    "ein.tags": "worksheet-0",
    "slideshow": {
     "slide_type": "-"
    }
   },
   "source": [
    "### (b)"
   ]
  },
  {
   "cell_type": "code",
   "execution_count": null,
   "metadata": {
    "autoscroll": false,
    "collapsed": false,
    "ein.hycell": false,
    "ein.tags": "worksheet-0",
    "slideshow": {
     "slide_type": "-"
    }
   },
   "outputs": [],
   "source": [
    "sps.norm.ppf(np.add([.9,.99,.999],1)/2)"
   ]
  },
  {
   "cell_type": "markdown",
   "metadata": {
    "ein.tags": "worksheet-0",
    "slideshow": {
     "slide_type": "-"
    }
   },
   "source": [
    "### (c)\n",
    "$G(((\\eta - z_u\\sigma)+\\eta)/\\sigma)=G(z_u)=(1+\\gamma)/2$"
   ]
  },
  {
   "cell_type": "markdown",
   "metadata": {
    "ein.tags": "worksheet-0",
    "slideshow": {
     "slide_type": "-"
    }
   },
   "source": [
    "## 5.\n",
    "### (a)\n",
    "$x_u=u$ if $X$ is uniform in $(0,1)$.\n",
    "### (b)\n",
    "$\\int 2e^{-2x}U(x)dx=-e^{-2x}+\\int\n",
    "e^{-2x}\\delta(x)dx=(1-e^{-2x})U(x)$\n",
    "Which is $1-e^{-2x}$ for $x \\geq 0$ so $-ln(1-u)/2=x_u$."
   ]
  },
  {
   "cell_type": "markdown",
   "metadata": {
    "ein.tags": "worksheet-0",
    "slideshow": {
     "slide_type": "-"
    }
   },
   "source": [
    "## 6.\n",
    "### (a)\n",
    "$1-2/10=4/5$\n",
    "### (b)"
   ]
  },
  {
   "cell_type": "code",
   "execution_count": null,
   "metadata": {
    "autoscroll": false,
    "collapsed": false,
    "ein.hycell": false,
    "ein.tags": "worksheet-0",
    "slideshow": {
     "slide_type": "-"
    }
   },
   "outputs": [],
   "source": [
    "2*sps.norm.cdf(2)-1"
   ]
  },
  {
   "cell_type": "markdown",
   "metadata": {
    "ein.tags": "worksheet-0",
    "slideshow": {
     "slide_type": "-"
    }
   },
   "source": [
    "## 7.\n",
    "Integrating $G(2,1/2\\mu)=4\\mu^2x exp(-2\\mu x)$ by parts yields the result with $c=\\2\\mu$."
   ]
  },
  {
   "cell_type": "code",
   "execution_count": null,
   "metadata": {
    "autoscroll": false,
    "collapsed": false,
    "ein.hycell": false,
    "ein.tags": "worksheet-0",
    "slideshow": {
     "slide_type": "-"
    }
   },
   "outputs": [],
   "source": [
    "## 8.\n",
    "The condition is equivalent to $8<X<12$ therefore $2G(2)-1 \\approx 0.95449974$ and $f(x)=exp(-(x-10)^2/2)/\\sqrt{2\\pi}/0.95449974$ for $8<X<10$ and $0$ everywhere else."
   ]
  },
  {
   "cell_type": "code",
   "execution_count": null,
   "metadata": {
    "autoscroll": false,
    "collapsed": false,
    "ein.hycell": false,
    "ein.tags": "worksheet-0",
    "slideshow": {
     "slide_type": "-"
    }
   },
   "outputs": [],
   "source": [
    "## 9.\n",
    "Using the product rule: $f(x)=(1+\\alpha e^{-\\alpha x})U(x-c)+(1-e^{-\\alpha x})\\delta(x-c)=(1+\\alpha e^{-\\alpha x})U(x-c)+(1-e^{-\\alpha c})\\delta(x-c)$ Hence for $x<c$, $f(x)=0$ for $x=c$, $f(x)=2+\\alpha e^{-\\alpha x}-e^{-\\alpha c}$ and for $x\\geq c$, $f(x)=1+\\alpha e^{-\\alpha x}$."
   ]
  },
  {
   "cell_type": "markdown",
   "metadata": {
    "ein.tags": "worksheet-0",
    "slideshow": {
     "slide_type": "-"
    }
   },
   "source": [
    "## 10.\n",
    "### (a)\n",
    "Converting $X$ to $N(0,1)$ then evaluating at the corresponding unit-variances:"
   ]
  },
  {
   "cell_type": "code",
   "execution_count": null,
   "metadata": {
    "autoscroll": false,
    "collapsed": false,
    "ein.hycell": false,
    "ein.tags": "worksheet-0",
    "slideshow": {
     "slide_type": "-"
    }
   },
   "outputs": [],
   "source": [
    "sps.norm.cdf(1)-sps.norm.cdf(1/2)"
   ]
  },
  {
   "cell_type": "markdown",
   "metadata": {
    "ein.tags": "worksheet-0",
    "slideshow": {
     "slide_type": "-"
    }
   },
   "source": [
    "### (b)"
   ]
  },
  {
   "cell_type": "code",
   "execution_count": null,
   "metadata": {
    "autoscroll": false,
    "collapsed": false,
    "ein.hycell": false,
    "ein.tags": "worksheet-0",
    "slideshow": {
     "slide_type": "-"
    }
   },
   "outputs": [],
   "source": [
    "(sps.norm.cdf(1)-sps.norm.cdf(1/2))/sps.norm.cdf(-1/2)"
   ]
  },
  {
   "cell_type": "markdown",
   "metadata": {
    "ein.tags": "worksheet-0",
    "slideshow": {
     "slide_type": "-"
    }
   },
   "source": [
    "## 11.\n",
    "$P(0 \\leq t_i \\leq y)=F(y)-F(0)=F(G^{-1}(y))-F(G^{-1}(0))=F(G^{-1}(y))-F(-\\infty)=F(G^{-1}(y))=y$\n",
    "Therefore, $F(x)=G(x)$."
   ]
  },
  {
   "cell_type": "markdown",
   "metadata": {
    "ein.tags": "worksheet-0",
    "slideshow": {
     "slide_type": "-"
    }
   },
   "source": [
    "## 12.\n",
    "### (a)"
   ]
  },
  {
   "cell_type": "code",
   "execution_count": null,
   "metadata": {
    "autoscroll": false,
    "collapsed": false,
    "ein.hycell": false,
    "ein.tags": "worksheet-0",
    "slideshow": {
     "slide_type": "-"
    }
   },
   "outputs": [],
   "source": [
    "sps.norm.cdf(1.2)"
   ]
  },
  {
   "cell_type": "markdown",
   "metadata": {
    "ein.tags": "worksheet-0",
    "slideshow": {
     "slide_type": "-"
    }
   },
   "source": [
    "### (b)"
   ]
  },
  {
   "cell_type": "code",
   "execution_count": null,
   "metadata": {
    "autoscroll": false,
    "collapsed": false,
    "ein.hycell": false,
    "ein.tags": "worksheet-0",
    "slideshow": {
     "slide_type": "-"
    }
   },
   "outputs": [],
   "source": [
    "(sps.norm.cdf(1.2)-sps.norm.cdf(-39/20))/(1-sps.norm.cdf(-39/20))"
   ]
  },
  {
   "cell_type": "markdown",
   "metadata": {
    "ein.tags": "worksheet-0",
    "slideshow": {
     "slide_type": "-"
    }
   },
   "source": [
    "### (c)"
   ]
  },
  {
   "cell_type": "code",
   "execution_count": null,
   "metadata": {
    "autoscroll": false,
    "collapsed": false,
    "ein.hycell": false,
    "ein.tags": "worksheet-0",
    "slideshow": {
     "slide_type": "-"
    }
   },
   "outputs": [],
   "source": [
    "sps.norm.cdf(1.2)-sps.norm.cdf(-39/20)"
   ]
  },
  {
   "cell_type": "markdown",
   "metadata": {
    "ein.tags": "worksheet-0",
    "slideshow": {
     "slide_type": "-"
    }
   },
   "source": [
    "## 13.\n",
    "\n",
    "from scipy.signal import unit_impuse as sui\n",
    "\n",
    "units = np.zeros(1000)\n",
    "units[250*np.arange(4)] = np.array([1/8,1/4,1/4,1/8])\n",
    "plt.plot(np.arange(1000)/1000,units)\n",
    "plt.show()"
   ]
  },
  {
   "cell_type": "markdown",
   "metadata": {
    "ein.tags": "worksheet-0",
    "slideshow": {
     "slide_type": "-"
    }
   },
   "source": [
    "## 14.\n",
    "### (a)\n",
    "${900 \\choose x}(1/2)^{900},x \\in \\mathbb{N}$\n",
    "### (b)\n",
    "$exp(-(x-450)^2/450)/15/\\sqrt{2 \\pi},x \\in \\mathbb{N}$\n",
    "### (c)"
   ]
  },
  {
   "cell_type": "code",
   "execution_count": null,
   "metadata": {
    "autoscroll": false,
    "collapsed": false,
    "ein.hycell": false,
    "ein.tags": "worksheet-0",
    "slideshow": {
     "slide_type": "-"
    }
   },
   "outputs": [],
   "source": [
    "norm.cdf(2/3)-norm.cdf(-1)"
   ]
  },
  {
   "cell_type": "markdown",
   "metadata": {
    "ein.tags": "worksheet-0",
    "slideshow": {
     "slide_type": "-"
    }
   },
   "source": [
    "## 17.\n",
    "Please send me a correction.\n",
    "\n",
    "The rate is $\\lambda(t)=\\beta(t)=kt$ therefore $f(x)=kx e^{-kx^2/2}$.\n",
    "\n",
    "But$\\beta(t)=f(t|X>t)=1-f(t|X\\leq t)=1-f(t)/F(t)=kt$ therefore\n",
    "$F(t)=Ce^{t-kt^2/2}$with $C=-1$,\n",
    "i.e. $f(t)=(kt-1)exp(-t(t^2/2-1))$...?"
   ]
  },
  {
   "cell_type": "markdown",
   "metadata": {
    "ein.tags": "worksheet-0",
    "slideshow": {
     "slide_type": "-"
    }
   },
   "source": [
    "## 18.\n",
    "$P(A)=\\int_{-\\infty}^xP(A|X=t)f(t)dt+\\int_x^{\\infty}P(A|X=t)f(t)dt=\\int_{-\\infty}^xP(A|X=t)dt\\int_{-\\infty}^xf(t)dt+\\int_x^{\\infty}P(A|X=t)dt\\int_x^{\\infty}f(t)dt=P(A|X\\leq\n",
    "x)F(x)+P(A|X>x)(1-F(x))$\n"
   ]
  },
  {
   "cell_type": "markdown",
   "metadata": {
    "ein.tags": "worksheet-0",
    "slideshow": {
     "slide_type": "-"
    }
   },
   "source": [
    "## 19.\n",
    "$F(x|A)=P(X\\leq x|A)=P(A|X\\leq x)P(X\\leq x)/P(A)=P(A|X\\leq\n",
    "x)F(x)/P(A)$"
   ]
  },
  {
   "cell_type": "markdown",
   "metadata": {
    "ein.tags": "worksheet-0",
    "slideshow": {
     "slide_type": "-"
    }
   },
   "source": [
    "## 20.\n",
    "$P(A|X\\leq x_0)=\\int_{-\\infty}^{\\infty}P(A|X=x)f(x|X\\leq\n",
    "x_0)dx=\\int_{-\\infty}^{x_0}P(B|X=x)f(x|X\\leq x_0)dx=P(B|X\\leq x_0)$\n",
    "Since for $X>x_0$, $f(x|X\\leq x_0)=0$."
   ]
  },
  {
   "cell_type": "markdown",
   "metadata": {
    "ein.tags": "worksheet-0",
    "slideshow": {
     "slide_type": "-"
    }
   },
   "source": [
    "## 21.\n",
    "### (a)\n",
    "$P(0.3 < p < 0.7)=0.7-0.3=0.4$\n",
    "### (b)\n",
    "Let $A$ be the event '6 heads in 10 trials'. Then $P(A)=\\int_{-\\infty}^{\\infty} {10 \\choose 6} p^6(1-p)^4f_p(p)dp={10 \\choose 6}\\int_0^1 p^6(1-p)^4 dp=(6!4!/11!){10 \\choose 6}$ since the integrand equals 0 outside the unit interval and $f_p(p)=1$ throughout the unit interval.\n",
    "Hence $f_p(p|A)=P(A|p)f_p(p)/P(A)=\\frac{11!}{6!4!}p^6(1-p)^4$, and \\(P(0.3<p\\leq 0.7|A)\\) is:"
   ]
  },
  {
   "cell_type": "code",
   "execution_count": 15,
   "metadata": {
    "autoscroll": false,
    "collapsed": false,
    "ein.hycell": false,
    "ein.tags": "worksheet-0",
    "slideshow": {
     "slide_type": "-"
    }
   },
   "outputs": [
    {
     "data": {
      "text/plain": [
       "0.7680762315999999"
      ]
     },
     "execution_count": 15,
     "metadata": {},
     "output_type": "execute_result"
    }
   ],
   "source": [
    "from scipy.stats import beta\n",
    "\n",
    "beta.cdf(0.7,7,5)-beta.cdf(0.3,7,5)"
   ]
  },
  {
   "cell_type": "markdown",
   "metadata": {
    "ein.tags": "worksheet-0",
    "slideshow": {
     "slide_type": "-"
    }
   },
   "source": [
    "## 22.\n",
    "### (a)\n",
    "$P(H)=\\int_{-\\infty}^{\\infty} P(H|P=p)f(p)dp=\\int_{0.4}^{0.6} p5 dp=0.5$\n",
    "### (b)\n",
    "$f(p|A)= { 100 \\choose 60}p^{60}(1-p)^{40}(5)/(\\int_{0.4}^{0.6}{100 \\choose 60}p^{60}(1-p)^{40}(5)dp=p^{60}(1-p)^40/(3.67898 \\times 10^-31)$\n",
    "Hence $P(H|A)=\\int_{0.4}^{0.6}(p^{60}(1-p)^40/(3.67898 \\times 10^-31))p dp$"
   ]
  },
  {
   "cell_type": "code",
   "execution_count": 23,
   "metadata": {
    "autoscroll": false,
    "collapsed": false,
    "ein.hycell": false,
    "ein.tags": "worksheet-0",
    "slideshow": {
     "slide_type": "-"
    }
   },
   "outputs": [
    {
     "data": {
      "text/plain": [
       "0.5602622401342162"
      ]
     },
     "execution_count": 23,
     "metadata": {},
     "output_type": "execute_result"
    }
   ],
   "source": [
    "import scipy.integrate as integrate\n",
    "\n",
    "probA = integrate.quad(lambda p: p**60*(1-p)**40, 0.4, 0.6)[0]\n",
    "probHA = integrate.quad(lambda p: p**61*(1-p)**40/probA, 0.4, 0.6)[0]\n",
    "probHA"
   ]
  },
  {
   "cell_type": "code",
   "execution_count": null,
   "metadata": {
    "autoscroll": false,
    "collapsed": false,
    "ein.hycell": false,
    "ein.tags": "worksheet-0",
    "slideshow": {
     "slide_type": "-"
    }
   },
   "outputs": [],
   "source": [
    "## 23.\n",
    "$\\int_{420}^{465}exp(-(x-450)^2/450)/\\sqrt{2\\pi 450}$\n",
    "$\\sigma = \\sqrt{225}=15$\n",
    "$G(1)-G(-2)$"
   ]
  },
  {
   "cell_type": "code",
   "execution_count": 27,
   "metadata": {
    "autoscroll": false,
    "collapsed": false,
    "ein.hycell": false,
    "ein.tags": "worksheet-0",
    "slideshow": {
     "slide_type": "-"
    }
   },
   "outputs": [
    {
     "data": {
      "text/plain": [
       "0.8185946141203637"
      ]
     },
     "execution_count": 27,
     "metadata": {},
     "output_type": "execute_result"
    }
   ],
   "source": [
    "from scipy.stats import norm\n",
    "from math import sqrt\n",
    "\n",
    "norm.cdf(1)-norm.cdf(-2)"
   ]
  },
  {
   "cell_type": "markdown",
   "metadata": {
    "ein.tags": "worksheet-0",
    "slideshow": {
     "slide_type": "-"
    }
   },
   "source": [
    "## 24.\n",
    "$k_2\\approx 0.52n$ and $k_1\\approx 0.49n$\n",
    "Probability that the number of heads is between 0.49n and 0.52n is\n",
    "$G(0.4\\sqrt{n})-G(-0.2\\sqrt{n})$"
   ]
  },
  {
   "cell_type": "code",
   "execution_count": null,
   "metadata": {
    "autoscroll": false,
    "collapsed": false,
    "ein.hycell": false,
    "ein.tags": "worksheet-0",
    "slideshow": {
     "slide_type": "-"
    }
   },
   "outputs": [],
   "source": [
    "# from sympy import erf, sqrt, exp, symbols, solve\n",
    "\n",
    "# n = symbols('n')\n",
    "\n",
    "\n",
    "# def erfab(x):\n",
    "#    t = 1/(1+0.3275911*sqrt(n/.5)*(x-.5))\n",
    "#    # max error of erf approximation is 1.5*10^-7   \n",
    "#    return 1-(0.254829592*t-0.284496736*t**2+1.421413741*t**3-1.453152027*t**4+1.061405429*t**5)*exp(-x**2)\n",
    "\n",
    "\n",
    "# solve((erfab(.52)-erfab(.49))/2-.9, n)"
   ]
  },
  {
   "cell_type": "markdown",
   "metadata": {
    "ein.tags": "worksheet-0",
    "slideshow": {
     "slide_type": "-"
    }
   },
   "source": [
    "## 25.\n",
    "### (a)\n",
    "$\\sigma = 2\\sqrt{6}$\n",
    "$2G(50/4/\\sqrt{15})-1$"
   ]
  },
  {
   "cell_type": "code",
   "execution_count": 30,
   "metadata": {
    "autoscroll": false,
    "collapsed": false,
    "ein.hycell": false,
    "ein.tags": "worksheet-0",
    "slideshow": {
     "slide_type": "-"
    }
   },
   "outputs": [
    {
     "data": {
      "text/plain": [
       "0.9987511690119115"
      ]
     },
     "execution_count": 30,
     "metadata": {},
     "output_type": "execute_result"
    }
   ],
   "source": [
    "2*norm.cdf(50/4/sqrt(15))-1"
   ]
  },
  {
   "cell_type": "markdown",
   "metadata": {
    "ein.tags": "worksheet-0",
    "slideshow": {
     "slide_type": "-"
    }
   },
   "source": [
    "### (b)"
   ]
  },
  {
   "cell_type": "code",
   "execution_count": 31,
   "metadata": {
    "autoscroll": false,
    "collapsed": false,
    "ein.hycell": false,
    "ein.tags": "worksheet-0",
    "slideshow": {
     "slide_type": "-"
    }
   },
   "outputs": [
    {
     "data": {
      "text/plain": [
       "9219.501169665898"
      ]
     },
     "execution_count": 31,
     "metadata": {},
     "output_type": "execute_result"
    }
   ],
   "source": [
    ".24*(norm.ppf(1.95/2)/.01)**2"
   ]
  },
  {
   "cell_type": "markdown",
   "metadata": {
    "ein.tags": "worksheet-0",
    "slideshow": {
     "slide_type": "-"
    }
   },
   "source": [
    "## 26.\n",
    "Probability of component breaking in interval (0,T/4) is $p=1-e^{-1/4}$.\n",
    "Probability of no more than 100 components failing: $\\sum_{k=0}^{100} {100 \\choose k} p^kq^{100-k}=1$.\n",
    "It is impossible for more than 100 components to fail, because the system only has 100 components.\n",
    "The instructor's manual[^1] seems to assume there are 1000 components, as in problem 4-25."
   ]
  },
  {
   "cell_type": "markdown",
   "metadata": {
    "ein.tags": "worksheet-0",
    "slideshow": {
     "slide_type": "-"
    }
   },
   "source": [
    "## 27.\n",
    "$A$ = heads on n'th toss.\n",
    "Then $P(A)$ = (probability of heads) * (probability of k-1 heads in n-1 tosses).\n",
    "$P(A) = p * {n-1 \\choose k-1}p^{k-1}(1-p)^{n-k}$."
   ]
  },
  {
   "cell_type": "markdown",
   "metadata": {
    "ein.tags": "worksheet-0",
    "slideshow": {
     "slide_type": "-"
    }
   },
   "source": [
    "## 28.\n",
    "Reading the hint from left to right, the LHS of the first inequality is $exp(-x^2/2)(1+1/x^2)$ which is greater than its first term, proving the inequality.\n",
    "The LHS of the second inequality is $exp(-x^2/2)(1-3/x^4)$ which is less than its first term, proving the inequality.\n",
    "Dividing these inequalities by $\\sqrt{2\\pi}$ and since $\\int_x^{\\infty}exp(-t^2/2)/\\sqrt{2\\pi}$=1-G(x)$, the result follows by taking the integral from $x$ to infinity of both inequalities."
   ]
  },
  {
   "cell_type": "markdown",
   "metadata": {
    "ein.tags": "worksheet-0",
    "slideshow": {
     "slide_type": "-"
    }
   },
   "source": [
    "## 29.\n",
    "$P_1=np(1-p)^{n-1}$. The result is trivial\n",
    "Because we are speaking of trials, $n \\in \\mathbb{Z}^+$, hence $p<<1$ since $np << 1$, implying $(1-p)^{n-1}\\approx 1$ giving the result."
   ]
  },
  {
   "cell_type": "markdown",
   "metadata": {
    "ein.tags": "worksheet-0",
    "slideshow": {
     "slide_type": "-"
    }
   },
   "source": [
    "## 30.\n",
    "Because $p<<1$, we use the poisson approximation to the binomial distribution.\n",
    "${100 \\choose 3}p^3(1-p)^{97} \\approx 2^3e^{-2}/3! \\approx 0.180447$"
   ]
  },
  {
   "cell_type": "markdown",
   "metadata": {
    "ein.tags": "worksheet-0",
    "slideshow": {
     "slide_type": "-"
    }
   },
   "source": [
    "## 31.\n",
    "$\\frac{5!}{2!2!1!}(\\frac{1}{6})^2(\\frac{1}{6})^2(\\frac{1}{6})^1=0.0038580246913580236$.[^2]"
   ]
  },
  {
   "cell_type": "markdown",
   "metadata": {
    "ein.tags": "worksheet-0",
    "slideshow": {
     "slide_type": "-"
    }
   },
   "source": [
    "## 32.\n",
    "The binomial is the multinomial with $r=2,k_1=k,k_2=n-k,p_1=p,p_2=1-p$."
   ]
  },
  {
   "cell_type": "markdown",
   "metadata": {
    "ein.tags": "worksheet-0",
    "slideshow": {
     "slide_type": "-"
    }
   },
   "source": [
    "## 33.\n",
    "$P(A)=p=\\frac{1}{18}+(1-p)\\frac{17}{18}$ and after some algebra $p=\\frac{18}{35}$"
   ]
  },
  {
   "cell_type": "markdown",
   "metadata": {
    "ein.tags": "worksheet-0",
    "slideshow": {
     "slide_type": "-"
    }
   },
   "source": [
    "## 34.\n",
    "### (a)\n",
    "There are $m$ choices for each particle heance $N=m^n$ .\n",
    "There are $n!$ permutations of single particles between the $n$ pre-selected boxes, hence $N=n!$.\n",
    "### (b)\n",
    "|||...(m-1)ooo...n\n",
    "Of the $(n+m-1)!$ permutations of box walls and particles in which there is only a single particle in each box, there are $n!$ permutations of particles for each of the $(m-1)!$ permutations of box walls, which are repetitions since the box walls and particles are indistinguishable. Hence, $N=\\frac{(n+m-1)!}{n!(m-1)!}$ and $N_A=1$.\n",
    "### (c)\n",
    "Because only single-particle boxes can occur, there are $N={m \\choose n}$ and only one of these has been pre-selected, hence $N_A=1$."
   ]
  },
  {
   "cell_type": "markdown",
   "metadata": {
    "ein.tags": "worksheet-0",
    "slideshow": {
     "slide_type": "-"
    }
   },
   "source": [
    "## 35.\n",
    "$n!/k_3! = n!/(n-(k_1+k_2))! = n(n-1)...(n-(k_1+k_2)+1) = n^{k_1+k_2} \\Pi_{j=0}^{k_1+k_2-1}(1-j/n) \\approx n^{k_1+k_2}$\n",
    "Hence $\\frac{n!}{k_1!k_2!k_3!} \\approx \\frac{n^{k_1+k_2}}{k_1!k_2!}$\n",
    "\n",
    "$p_3=(1-n(p_1+p_2)/n)^{k_3}\\approx exp(-n(p_1+p_2))$ if $k_3 \\approx n$"
   ]
  },
  {
   "cell_type": "markdown",
   "metadata": {
    "ein.tags": "worksheet-0",
    "slideshow": {
     "slide_type": "-"
    }
   },
   "source": [
    "## 36.\n",
    "### (a)"
   ]
  },
  {
   "cell_type": "code",
   "execution_count": 33,
   "metadata": {
    "autoscroll": false,
    "collapsed": false,
    "ein.hycell": false,
    "ein.tags": "worksheet-0",
    "slideshow": {
     "slide_type": "-"
    }
   },
   "outputs": [
    {
     "data": {
      "text/plain": [
       "0.00118586531362323"
      ]
     },
     "execution_count": 32,
     "metadata": {},
     "output_type": "execute_result"
    },
    {
     "data": {
      "text/plain": [
       "0.00118586531362323"
      ]
     },
     "execution_count": 33,
     "metadata": {},
     "output_type": "execute_result"
    }
   ],
   "source": [
    "200*(1/50)*(48/50)**199"
   ]
  },
  {
   "cell_type": "markdown",
   "metadata": {
    "ein.tags": "worksheet-0",
    "slideshow": {
     "slide_type": "-"
    }
   },
   "source": [
    "### (b)\n",
    "$ T=100, t_0 =2, np=200(2/100)=4 $ hence the approximation is $4e^{-4}$"
   ]
  },
  {
   "cell_type": "markdown",
   "metadata": {
    "ein.tags": "worksheet-0",
    "slideshow": {
     "slide_type": "-"
    }
   },
   "source": [
    "[^1]: \n",
    "[^2}: There is a typo in the instructor's manual where the exponent on 1/6 is 6 instead of 5."
   ]
  }
 ],
 "metadata": {
  "kernelspec": {
   "argv": [
    "C:/Users/jonkm/Miniconda3\\python.exe",
    "-m",
    "ipykernel_launcher",
    "-f",
    "{connection_file}"
   ],
   "display_name": "Python 3",
   "env": null,
   "interrupt_mode": "signal",
   "language": "python",
   "metadata": null,
   "name": "python3"
  },
  "name": "papoulis.ipynb"
 },
 "nbformat": 4,
 "nbformat_minor": 2
}
